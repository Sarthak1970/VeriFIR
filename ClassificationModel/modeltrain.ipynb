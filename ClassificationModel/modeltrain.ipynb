{
 "cells": [
  {
   "cell_type": "code",
   "execution_count": 53,
   "id": "bd609f8d",
   "metadata": {},
   "outputs": [],
   "source": [
    "import numpy as np\n",
    "import pandas as pd\n",
    "import nltk\n",
    "import pickle\n",
    "import re\n"
   ]
  },
  {
   "cell_type": "code",
   "execution_count": 54,
   "id": "c1898745",
   "metadata": {},
   "outputs": [
    {
     "name": "stderr",
     "output_type": "stream",
     "text": [
      "[nltk_data] Downloading package stopwords to\n",
      "[nltk_data]     C:\\Users\\katiy\\AppData\\Roaming\\nltk_data...\n",
      "[nltk_data]   Package stopwords is already up-to-date!\n",
      "[nltk_data] Downloading package punkt to\n",
      "[nltk_data]     C:\\Users\\katiy\\AppData\\Roaming\\nltk_data...\n",
      "[nltk_data]   Package punkt is already up-to-date!\n",
      "[nltk_data] Downloading package wordnet to\n",
      "[nltk_data]     C:\\Users\\katiy\\AppData\\Roaming\\nltk_data...\n",
      "[nltk_data]   Package wordnet is already up-to-date!\n"
     ]
    },
    {
     "data": {
      "text/plain": [
       "True"
      ]
     },
     "execution_count": 54,
     "metadata": {},
     "output_type": "execute_result"
    }
   ],
   "source": [
    "from nltk.corpus import stopwords\n",
    "nltk.download('stopwords')\n",
    "nltk.download('punkt')\n",
    "nltk.download('wordnet')"
   ]
  },
  {
   "cell_type": "code",
   "execution_count": 55,
   "id": "900299af",
   "metadata": {},
   "outputs": [
    {
     "data": {
      "text/html": [
       "<div>\n",
       "<style scoped>\n",
       "    .dataframe tbody tr th:only-of-type {\n",
       "        vertical-align: middle;\n",
       "    }\n",
       "\n",
       "    .dataframe tbody tr th {\n",
       "        vertical-align: top;\n",
       "    }\n",
       "\n",
       "    .dataframe thead th {\n",
       "        text-align: right;\n",
       "    }\n",
       "</style>\n",
       "<table border=\"1\" class=\"dataframe\">\n",
       "  <thead>\n",
       "    <tr style=\"text-align: right;\">\n",
       "      <th></th>\n",
       "      <th>Definition</th>\n",
       "      <th>Label</th>\n",
       "    </tr>\n",
       "  </thead>\n",
       "  <tbody>\n",
       "    <tr>\n",
       "      <th>0</th>\n",
       "      <td>16 people gang rape and murder of a girl who w...</td>\n",
       "      <td>IPC_Section_302_376</td>\n",
       "    </tr>\n",
       "    <tr>\n",
       "      <th>1</th>\n",
       "      <td>2 constables had then brutally beaten person w...</td>\n",
       "      <td>IPC_Section_307</td>\n",
       "    </tr>\n",
       "    <tr>\n",
       "      <th>2</th>\n",
       "      <td>2 persons who kidnapped 2 girls to an old buil...</td>\n",
       "      <td>IPC_Section_376</td>\n",
       "    </tr>\n",
       "    <tr>\n",
       "      <th>3</th>\n",
       "      <td>2 youth raped the girl on the pretext of takin...</td>\n",
       "      <td>IPC_Section_376</td>\n",
       "    </tr>\n",
       "    <tr>\n",
       "      <th>4</th>\n",
       "      <td>3 men for gang-raping woman and attacked her w...</td>\n",
       "      <td>IPC_Section_307_376</td>\n",
       "    </tr>\n",
       "  </tbody>\n",
       "</table>\n",
       "</div>"
      ],
      "text/plain": [
       "                                          Definition                Label\n",
       "0  16 people gang rape and murder of a girl who w...  IPC_Section_302_376\n",
       "1  2 constables had then brutally beaten person w...      IPC_Section_307\n",
       "2  2 persons who kidnapped 2 girls to an old buil...      IPC_Section_376\n",
       "3  2 youth raped the girl on the pretext of takin...      IPC_Section_376\n",
       "4  3 men for gang-raping woman and attacked her w...  IPC_Section_307_376"
      ]
     },
     "execution_count": 55,
     "metadata": {},
     "output_type": "execute_result"
    }
   ],
   "source": [
    "df=pd.read_csv('Final_IPC_label_data.csv')\n",
    "df.head()"
   ]
  },
  {
   "cell_type": "code",
   "execution_count": 56,
   "id": "db3518b0",
   "metadata": {},
   "outputs": [
    {
     "data": {
      "text/plain": [
       "(578, 2)"
      ]
     },
     "execution_count": 56,
     "metadata": {},
     "output_type": "execute_result"
    }
   ],
   "source": [
    "df.shape"
   ]
  },
  {
   "cell_type": "code",
   "execution_count": 57,
   "id": "cf8e88a0",
   "metadata": {},
   "outputs": [
    {
     "name": "stdout",
     "output_type": "stream",
     "text": [
      "['people gang rape murder girl burnt alive', 'constable brutally beaten person sustained injury admitted hospital critical condition', 'person kidnapped girl old building raped elder child', 'youth raped girl pretext taking nearby jungle', 'men gang raping woman attacked sharp weapon', 'men accused rape murder woman', 'men allegedly gang raped woman front husband', 'men raped girl strangulated death', 'men accused raping girl', 'case murder registered', 'driver allegedly killed old enmity arrested beaten people', 'group people allegedly attacked man fired shot', 'man axed death son', 'person intending victim poison procures white powder containing poison secretly mix food remains keeping person fails kill pioson viction', 'person said commit offense murder person sound mind kill reasonable person', 'position control dominance woman commits rape woman', 'relative guardian teacher person position trust authority towards woman commits rape woman', 'accused allegedly shot revolver allegedly attacked police team', 'accused allegedly stabbed death brother', 'accused allegedly strangled victim stabbed death', 'accused allegedly took girl pretext giving sweet allegedly raped child killed strangulating', 'accused arrested allegedly sexually harassing sexual harassment female', 'accused attempt murder case', 'accused rape death', 'accused lured girl raped killed smashing head stone', 'accused allegedly raping', 'accused raping woman tried kill setting fire set fire', 'accused heading execute murder', 'alleged sex rape attack girl trying kill', 'raping allegedly threw bridge railway track', 'raping tried strangulate woman', 'raping victim accused hit head stone', 'medical examination minor confided mother said repeatedly raped father', 'accused rape murder', 'alleged rape attempt commit murder minor', 'alleged rape murder girl boy', 'alleged gang raped killed', 'alleged raped set ablaze set fire later sent hospital undergoing treatment', 'allegedly accused rape murder girl', 'allegedly attacked knife former driver', 'allegedly beaten death', 'allegedly beating man death', 'allegedly hacked death', 'allegedly infecting person infection', 'allegedly killed', 'allegedly killed', 'allegedly killed burnt dead body', 'allegedly killed set deadbody body fire', 'allegedly killed person later burnt body deadbody forest', 'allegedly killed person', 'allegedly killed wife dumped body packed sack', 'allegedly killing', 'allegedly killing year old girl gone missing', 'allegedly killing woman', 'allegedly killing elder brother following argument', 'allegedly killing killed wife son setting fire', 'allegedly latched door laboratory raped girl', 'allegedly murdered', 'allegedly murdering', 'allegedly owning allegiance proscribed terror group', 'allegedly performed human sacrifice appease god', 'allegedly poisoned killed', 'allegedly raped woman', 'allegedly raped murdered', 'allegedly raped set girl afire', 'allegedly raping girl making video crime', 'allegedly raping teenager', 'allegedly raping woman', 'allegedly raping killing woman', 'allegedly raping daughter', 'allegedly raping daughter', 'allegedly sexually assaulted burglar even tried strangulate', 'allegedly shot dead argument', 'allegedly smothered death', 'allegedly strangulated death friend', 'allegedly thrashed father continues battle life kerala hospital', 'allegedly threw mother roof building pretended know', 'allegedly trying poison victim', 'act done must capable causing demise natural ordinary course thing', 'alcoholic man forcibly drowned daughter', 'alleged serial killer allegedly raped murdered minor girl', 'attempt murder criminal conspiracy', 'couple murdered dubai national', 'intention knowledge', 'apprehended juvenile murder', 'attempt kill', 'attempt kill rape', 'attempt kill murder', 'attempt kill woman', 'attempt murder', 'attempt murder rape', 'attempt murder rape', 'attempted honour killing', 'attempted kill', 'axed death', 'baby raped murdered', 'beaten minor', 'beaten death', 'stabbing throat kitchen knife raped threw drain', 'bludgeoned death', 'bludgeoned death boulder', 'bombing', 'boy allegedly raped girl', 'boy allegedly raping minor girl', 'boy held allegedly raping minor girl', 'boy took girl room raped killed throttling put body girl gunny bag', 'boy allegedly murdered mother', 'boy killed woman allegedly', 'boy strangled death', 'british woman tourist allegedly raped unidentified man', 'brutal lynching lynched', 'brutal murder case', 'brutally killed unknown assailant', 'person place food table victim delivers servant victim placed table victim attempt', 'butchered', 'came meet woman accompanied friend allegedly raped woman', 'carnaged bomb blast', 'case double murder', 'case honour killing', 'case honour killing man killed daughter completed final rite hurriedly', 'case rape ia officer', 'case rape attempt murder', 'case murder murderous assault gangster', 'celebratory firing function', 'charged attempt murder gang rape', 'chopped head', 'commits homicide', 'commits murder death', 'commits murder kill person', 'commits rape', 'commits rape communal sectarian violence', 'commits rape girl sixteen year age underage', 'commits rape woman knowing pregnant', 'commits rape woman suffering mental physical disability', 'commits rape repeatedly woman', 'commits rape incapable giving without consent', 'committed murder', 'committed rape', 'committing murder assassination', 'committing rape', 'connection sexual assault woman husband friend forcibly making drink liquor', 'conspired kill', 'convict rape murder girl', 'convicted murder', 'convicted rape murder girl', 'convicted rapist also charge attempt murderer', 'cop fired man argument', 'couple admitted hospital severe injury', 'cousin got hold allegedly raped', 'crushing face stone multiple time killed murdered', 'culprit brutal murder suspected rape girl', 'death rape', 'death died spot', 'died gunshot wound assailant barged house', 'driver murdered car stolen', 'drunken man allegedly beat wife death', 'elderly allegedly shot dead unidentified assailant', 'family killed daughter mother gave sleeping pill member family strangulated cremated body deadbody', 'father rape daughter repeatedly impregnates', 'female allegedly shot dead husband', 'allegedly firing', 'attempting murder subsequently raping woman', 'grievously attacking another man sharp edged weapon intention kill', 'spreading infection', 'found dead', 'found dead throat slit', 'found murdered', 'gang rape', 'gang rape situation woman raped person men intention rape woman', 'gang rape girl attempted murder', 'gang rape woman', 'gang raped killed', 'gang raped murdered', 'gangrape murder woman', 'girl allegedly got pregnant thrice due repeated rape made abort time', 'girl allegedly raped murdered sexual predator', 'girl gang raped men', 'girl become pregnant allegedly repeatedly raped brother', 'girl admitted hospital serious condition thrown running train', 'girl allegedly raped cousin', 'girl raped', 'girl raped killed allegedly people', 'girl raped gunpoint', 'girl student alone house reportedly gang raped teenager', 'girl abducted raped unidentified person outskirt', 'girl abducted raped two people', 'girl allegedly abducted gang raped men', 'girl allegedly abducted raped men', 'girl allegedly abducted raped neighbour', 'girl allegedly abducted raped two youth', 'girl allegedly gang raped men', 'girl allegedly gang raped student dumped near', 'girl allegedly murdered suspected rape', 'girl allegedly murdered raped man set ablaze later succumbed died burn hospital', 'girl allegedly raped killed guest', 'girl allegedly raped murdered', 'girl allegedly raped murdered', 'girl allegedly raped murdered', 'girl allegedly raped strangled death', 'girl allegedly raped brother various occasion', 'girl allegedly raped men', 'girl allegedly raped youth field gunpoint', 'girl allegedly raped men kept sedated sexually assaulted bludgeoned death', 'girl allegedly raped man', 'girl allegedly raped man seriously injured', 'girl allegedly raped man alone house', 'girl allegedly raped man also tried kill hitting head stone', 'girl allegedly raped staffer hotel', 'girl allegedly raped teenager', 'girl allegedly raped youth', 'girl allegedly raped youth', 'girl allegedly raped youth', 'girl allegedly raped youth', 'girl allegedly raped youth neighbourhood', 'girl allegedly raped father', 'girl allegedly raped neighbour', 'girl allegedly raped neighbour', 'girl allegedly raped stepfather', 'girl allegedly raped three men', 'girl allegedly raped two men', 'girl allegedly raped day person', 'girl allegedly repeatedly raped impregnated boy', 'girl brutally raped murdered', 'girl brutally raped strangled death', 'girl found allegedly raped strangled death school belt', 'girl found semi nude indicating might raped murdered', 'girl found raped murdered', 'girl gang raped minor', 'girl gangraped unidentified accused incident took place gunpoint', 'girl lured boy got raped', 'girl raped allegedly neighbour house', 'girl raped attempt killed allegedly boy', 'girl raped blinded attack', 'girl raped murdered', 'girl raped murdered landlord packed body deadbody bag threw garbage dump', 'girl raped old man', 'girl shot dead burnt allegedly raped', 'girl taken youth playing near house raped secluded area', 'girl allegedly raped set fire neighbour', 'grisly case double murder suicide', 'guilty committing murder death', 'allegedly beaten', 'opened fire friend living flat', 'tried strangulate', 'killed allegedly', 'murdered allegedly', 'admitted committed offence rape girl come disposed body', 'allegedly killed infant daughter threw body apartment', 'along another person raped woman killed', 'confessed raped murdered girl whose body recovered', 'fled house raping', 'admitted raping killing another girl', 'killed minor later dumped deadbody body nearby', 'held hostage raped', 'held hostage raped', 'killed', 'killed estranged wife went law place killed mother law killed', 'later succumbed injury hospital', 'physically tortured raped girl hit girl rod', 'physically tortured raped girl later girl sent hospital', 'raped strangled', 'raped girl tried burn alive', 'raped girl tried strangulate', 'thrashed girl brutally raped', 'thrashed girl brutally raped setting fire girl battling life hospital', 'charged homicide', 'convicted raping student murdering setting house fire', 'found guilty rape murder woman', 'shot', 'held allegedly killing wife crushing face stone multiple time', 'held illegal weapon', 'husband attacked home', 'hiv positive man allegedly raped minor stepdaughter infecting virus', 'home guard murdered girl rejecting love proposal', 'homemaker murdered allegedly husband', 'homicide', 'human sacrifice', 'pushed bridge railway track raping ran towards house', 'immolation attempt', 'connection killing', 'incident rape murder', 'injured', 'injured woman admitted hospital', 'intending kill', 'intruder started abusing threatening girl rape murder', 'kill rape', 'killed', 'killed feeding food laced poison consumed later', 'killed packed deadbody bag dragged buried', 'killing', 'kill', 'later died hospital', 'later died taken hospital died hospital', 'later taken nearby agriculture field raped youth', 'later victim severely injured wounded taken hospital died', 'lawyer raping threatening law student', 'lodged attempt murder case deceased opening fire police team', 'lynch wiped', 'man allegedly forced inside house woman raped knife point tried kill', 'man allegedly killed father', 'man allegedly killed father', 'man allegedly murdering wife letting loose cobra room', 'man allegedly raped girl', 'man allegedly raping impregnating daughter', 'man allegedly stabbed niece suspected attempted honour killing', 'man allegedly thrashed mother death inebriated state', 'man allegedly throttled wife child death later set body deadbodies ablaze', 'man allegedly trying kill girlfriend', 'man beheaded girl allegedly resisted attempt rape', 'man drowned son slit throat daughter', 'man enraged father bludgeoned father death', 'man allegedly raping girl', 'man raping girl trying kill', 'man raping murdering girl set ablaze later succumbed burn hospital', 'man gang rape murder mentally challenged girl friend', 'man hammer daughter death', 'man killed mother wife minor daughter', 'man killed mother setting fire', 'man killed teenage daughter cold blood sacrifice', 'man lured girl sweet raped house', 'man murdered wife', 'man attempting murder woman', 'man charge raping minor girl', 'man raped girl mute sleeping house', 'man rape attempt murder woman inside home', 'man rape minor girl', 'man raping sister classmate', 'man shot dead wife stepson', 'man sexually assaulted threatened kill even tried strangulate', 'man threw neighbour child roof building got injured thrown roof', 'man allegedly beaten death son', 'man attacked knife dispute', 'man beaten death woman son', 'man behind rape murder two child', 'man held allegedly raping murdering girl', 'man held guilty murdering elderly woman raping another woman', 'man murdered member unidentified gang', 'man murdered friend husband', 'man murdered son', 'man murdered unidentified person', 'man shot dead allegedly teenager', 'man shot dead allegedly unidentified assailant', 'man stabbed death', 'man stabbed death two person', 'man stabbed death front wife daughter', 'man thrashed killed allegedly wife mother law', 'man thrashed employee hospital man hospitalised', 'manager charge cheating raping event manager', 'men charge raping attempting murder woman', 'minor daughter also sustained burn injury incident undergoing treatment hospital', 'minor girl allegedly raped field relieve', 'minor girl allegedly gang raped men year threatened', 'minor girl allegedly raped', 'minor girl allegedly raped murdered', 'minor girl allegedly raped man', 'minor girl allegedly raped killed employer', 'minor girl allegedly raped cousin', 'minor girl allegedly raped youth', 'misconduct quarantine centre', 'mixing poision intension kill', 'molestation rape', 'monk accused raping pregnant woman molesting another', 'motive behind killing', 'murder rape', 'murder rape charge prime accused killing case connection killing woman', 'murder rape minor', 'murder case', 'murder case', 'murdered rape', 'murdering', 'neighbour victim abducted took secluded place raped', 'offence gang rape', 'one bullet hit friend', 'owner allegedly raped minor subsequently strangled death', 'owner shot dead unidentified assailant', 'people accused rape murder girl', 'people accused burning woman alive raping', 'perpetrator brutally gang raped killed', 'person allegedly raping girl house', 'person connection alleged gang rape murder woman whose body found', 'person intending poison victim purchase poison mix food remains keeping person fails kill poision victim', 'person involved rape murder woman', 'person also shot accused confirmed people auto carrying house breaking equipment', 'pointed gun intension kill', 'police officer commits rape', 'prove act committed amount offence murder', 'public servant commits rape woman', 'pushed person moving bus', 'rape', 'rape attempt murder shot gun', 'rape minor girl', 'rape cheating', 'rape murder', 'rape attempt murder voluntarily causing hurt criminal intimidation', 'rape murder suspect', 'rape teenage stepdaughter attempt murder setting ablaze set fire pouring petrol', 'rape girl girl resisted stabbed neck stomach', 'raped', 'raped bludgeoned death', 'raped burnt alive death', 'raped killed', 'raped murdered', 'raped strangled death', 'raped tried kill', 'raped girl strangulated death', 'raping', 'raping girl', 'raping attempting murder', 'raping killing later girl died hospital', 'raping trying stab', 'raping killing girl mother', 'resulted employee stabbed death', 'resulting death', 'rushed hospital died', 'sale adulterated drug', 'section ipc provides punishment rape', 'semi naked body girl found dumped', 'serious injury suffered', 'session intruded threatened girl rape murder', 'sexual intercourse', 'sexual intercourse person authority person public servant seduces take advantage woman', 'sexual intercourse male man upon spouse wife separation', 'sexually', 'sexually assaulted', 'raped several time stepfather', 'killed husband', 'resisted advance two men raped', 'physically exploited raped father law strangulated hush matter', 'thrown running train', 'shopkeeper alleged man along associate shot pistol', 'shot dead', 'shot dead motorcycle borne assailant', 'shot dead sleeping', 'slashed throat killing', 'smothering child death using pillow', 'someone raped attempt seriously injure woman', 'spinal injury allegedly thrashed time', 'spirited away nearby room raped', 'stabbed death', 'stabbed death', 'stabbed death unidentified assailant', 'stabbed death suspected case honour killing', 'stabbing killing caused death', 'strangled death', 'student firing city residence', 'student battling life allegedly gang raped poisoned person', 'student school died allegedly beaten group student school compound', 'student school allegedly raped two school teacher', 'student college sexually assaulted', 'student way coaching centre forcibly carried away unidentified men bank river yamuna gang raped', 'student raped assistant professor', 'student allegedly abducted raped youth', 'student allegedly raped men two day dumped forest', 'student allegedly raped lawyer accomplice inside chamber', 'student found murdered', 'student raped cab driver lured pretext birthday party', 'suspect first raped suffocated death blanket', 'suspected case honour killing woman hacked death allegedly father', 'teacher government school allegedly raped student', 'teenage girl raped car men', 'accused accepted tried kill man', 'accused brother allegedly raped minor girl', 'accused allegedly stabbed victim time rape', 'accused hiv positive committed rape upon stepdaughter infecting life threatening disease', 'accused killed woman smashing head stone', 'accused murdered victim using sharp edged weapon altercation', 'accused slashed throat killing spot', 'accused stabbed victim road going home', 'accused stabbed victim knife died spot', 'autopsy report confirmed murder attempt rape well', 'body part injury inflicted', 'body part injury inflicted due beating', 'criminal intent punishable must shown person voluntary act omission', 'deceased woman murdered', 'act towards', 'gangrape murder girl allegedly strangled another suspect', 'intention knowledge accused', 'management staff hospital commits rape woman hospital', 'mixing poison food intention causing demise offence even though demise occurs', 'motive murder still unknown killer untraceable', 'murder fallout dispute accused victim food', 'person fire gun shoot victim firing shooting wound victim', 'person got injured wonded due whipping', 'person tried attempted murder kill victim', 'person severely wounded due thrashing', 'rape murder case minor girl', 'rape murder girl', 'victim currently hospital condition critical', 'woman alleged accused court staff raped inside room avenue court', 'assaulted woman rendered unconscious following two accused allegedly raped', 'gang raped tried kill woman', 'later gang raped', 'took girl raped strangulating death dumping body deadbody putting bag', 'took turn rape', 'took turn rape poisoned', 'thrashed killed allegedly', 'throttled wife two child', 'tribal woman allegedly raped men forest', 'tried kill allegedly raping raped setting fire woman', 'try enter without mandatory virus screening', 'trying', 'trying kill rape', 'two accused murder case within hour incident also recovered crime weapon', 'unidentified accused charge murder rape', 'victim shot accused', 'victim shot dead accused', 'victim allegedly beaten death', 'victim beaten death', 'victim gang raped murdered body dead body dumped burnt', 'allegedly beaten death men', 'allegedly gang raped three people', 'killed allegedly', 'shot dead unidentified assailant', 'attacked', 'caught murdering', 'injured splinter bullet', 'girl came school took abandoned building nearby allegedly raped', 'woman living separately spouse decree judicial separation sexual intercourse without consent', 'committing rape cause grievous bodily harm maims disfigures endangers life woman', 'going tuition accused took room raped', 'attacked', 'whoever commits rape', 'witnessed murder', 'woman allegedly killed spouse sleeping', 'woman allegedly poisoned husband daughter consuming resulting death family member', 'woman allegedly murdered brother body found packed sack', 'woman accused man raping several time past month pretext marriage', 'woman alleged abducted raped youth', 'woman killed son', 'woman set fire way testify alleged rapist people commited rape', 'woman shot dead husband', 'woman sold raped people forced work domestic help', 'woman stabbed death husband', 'woman sustained injury spine go doctor', 'woman threw child later jumped woman saved', 'woman travelling child allegedly raped secluded cab driver stabbed attacked knife', 'woman travelling child raped moving bus thrown bus', 'woman travelling child allegedly raped moving bus one two driver', 'woman abducted raped person', 'woman allegedly abducted raped men', 'woman allegedly abducted raped man', 'woman allegedly burnt alive man died', 'woman allegedly burnt death father', 'woman allegedly burnt death husband law', 'woman allegedly forced drink liquor husband gang raped friend front child', 'woman allegedly gang raped men', 'woman allegedly gang raped men', 'woman allegedly killed husband', 'woman allegedly raped murdered', 'woman allegedly raped strangled death murdered killed person', 'woman allegedly raped civic run hospital man pretext helping fill fee concession form', 'woman allegedly raped men government school premise', 'woman allegedly raped person', 'woman allegedly raped people', 'woman allegedly raped boy', 'woman allegedly raped man friend place offered drink laced sedative', 'woman allegedly raped man recorded act tried blackmail', 'woman allegedly raped two youth', 'woman allegedly sexually assaulted doctor', 'woman beaten death step son', 'woman burnt alive allegedly man resisted attempt rape', 'woman first gang raped later murdered law', 'woman found dead', 'woman gangraped men thrashed severely injured', 'woman killed person hanged body show case suicide', 'woman set fire alive land mafia group assam attempted kill land dispute', 'woman shot dead', 'woman stabbed spent next hour knife inside chest', 'woman child tuesday alleged rape man', 'woman raped tried attacked knife abdoman', 'young woman murdered lover', 'youngster charge raping girl', 'youth first made attempt rape widow later set ablaze set fire resisted', 'youth raped murdered girl', 'youth hacked death unidentified person', 'youth shot brawl crowded pub', 'youth opened fire', 'youth attacked person allegedly opened fire person']\n"
     ]
    }
   ],
   "source": [
    "corpus=[]\n",
    "for i in range(0,df.shape[0]):\n",
    "    definition=re.sub('[^a-zA-Z]',' ',df['Definition'][i])\n",
    "    definition=definition.lower()\n",
    "    definition=definition.split()\n",
    "    wnlwm=nltk.WordNetLemmatizer()\n",
    "    all_stopwords=stopwords.words('english')\n",
    "    definition=[wnlwm.lemmatize(word) for word in definition if not word in set(all_stopwords)]\n",
    "    definition=' '.join(definition)\n",
    "    corpus.append(definition)\n",
    "\n",
    "print (corpus)"
   ]
  },
  {
   "cell_type": "code",
   "execution_count": 58,
   "id": "9ecf6d34",
   "metadata": {},
   "outputs": [
    {
     "name": "stdout",
     "output_type": "stream",
     "text": [
      "(578, 683)\n"
     ]
    }
   ],
   "source": [
    "from sklearn.feature_extraction.text import CountVectorizer\n",
    "cv=CountVectorizer(max_features=700)\n",
    "X=cv.fit_transform(corpus).toarray()\n",
    "y=df.iloc[:,1].values\n",
    "print(X.shape)"
   ]
  },
  {
   "cell_type": "code",
   "execution_count": 59,
   "id": "1c35d94a",
   "metadata": {},
   "outputs": [
    {
     "data": {
      "text/plain": [
       "683"
      ]
     },
     "execution_count": 59,
     "metadata": {},
     "output_type": "execute_result"
    }
   ],
   "source": [
    "len(X[0])"
   ]
  },
  {
   "cell_type": "code",
   "execution_count": 60,
   "id": "c6270e7a",
   "metadata": {},
   "outputs": [
    {
     "name": "stdout",
     "output_type": "stream",
     "text": [
      "(491, 683)\n"
     ]
    }
   ],
   "source": [
    "from sklearn.model_selection import train_test_split\n",
    "X_train,X_test,y_train,y_test=train_test_split(X,y,test_size=0.15,random_state=0)\n",
    "print(X_train.shape)"
   ]
  },
  {
   "cell_type": "code",
   "execution_count": 78,
   "id": "dc65b714",
   "metadata": {},
   "outputs": [
    {
     "name": "stdout",
     "output_type": "stream",
     "text": [
      "[['IPC_Section_376' 'IPC_Section_376']\n",
      " ['IPC_Section_376' 'IPC_Section_376']\n",
      " ['IPC_Section_307' 'IPC_Section_307']\n",
      " ['IPC_Section_376' 'IPC_Section_376']\n",
      " ['IPC_Section_307_376' 'IPC_Section_307_376']\n",
      " ['IPC_Section_302' 'IPC_Section_302']\n",
      " ['IPC_Section_307_376' 'IPC_Section_307_376']\n",
      " ['IPC_Section_376' 'IPC_Section_376']\n",
      " ['IPC_Section_302' 'IPC_Section_302']\n",
      " ['IPC_Section_302' 'IPC_Section_302']\n",
      " ['IPC_Section_307_376' 'IPC_Section_307_376']\n",
      " ['IPC_Section_307_376' 'IPC_Section_307_376']\n",
      " ['IPC_Section_376' 'IPC_Section_376']\n",
      " ['IPC_Section_302' 'IPC_Section_302']\n",
      " ['IPC_Section_302' 'IPC_Section_307']\n",
      " ['IPC_Section_302' 'IPC_Section_302']\n",
      " ['IPC_Section_376' 'IPC_Section_376']\n",
      " ['IPC_Section_302_376' 'IPC_Section_307_376']\n",
      " ['IPC_Section_307' 'IPC_Section_307']\n",
      " ['IPC_Section_302' 'IPC_Section_302']\n",
      " ['IPC_Section_302_376' 'IPC_Section_302_376']\n",
      " ['IPC_Section_376' 'IPC_Section_302']\n",
      " ['IPC_Section_376' 'IPC_Section_376']\n",
      " ['IPC_Section_376' 'IPC_Section_376']\n",
      " ['IPC_Section_376' 'IPC_Section_302_376']\n",
      " ['IPC_Section_302' 'IPC_Section_302']\n",
      " ['IPC_Section_376' 'IPC_Section_376']\n",
      " ['IPC_Section_376' 'IPC_Section_376']\n",
      " ['IPC_Section_376' 'IPC_Section_376']\n",
      " ['IPC_Section_376' 'IPC_Section_307_376']\n",
      " ['IPC_Section_302_376' 'IPC_Section_302_376']\n",
      " ['IPC_Section_302' 'IPC_Section_302']\n",
      " ['IPC_Section_302' 'IPC_Section_302']\n",
      " ['IPC_Section_302_376' 'IPC_Section_302_376']\n",
      " ['IPC_Section_376' 'IPC_Section_307_376']\n",
      " ['IPC_Section_302' 'IPC_Section_302']\n",
      " ['IPC_Section_302' 'IPC_Section_302']\n",
      " ['IPC_Section_302' 'IPC_Section_302']\n",
      " ['IPC_Section_307' 'IPC_Section_307']\n",
      " ['IPC_Section_307' 'IPC_Section_307']\n",
      " ['IPC_Section_376' 'IPC_Section_302_376']\n",
      " ['IPC_Section_302_376' 'IPC_Section_302_376']\n",
      " ['IPC_Section_376' 'IPC_Section_376']\n",
      " ['IPC_Section_376' 'IPC_Section_307_376']\n",
      " ['IPC_Section_302' 'IPC_Section_302']\n",
      " ['IPC_Section_376' 'IPC_Section_376']\n",
      " ['IPC_Section_376' 'IPC_Section_307_376']\n",
      " ['IPC_Section_302_376' 'IPC_Section_302_376']\n",
      " ['IPC_Section_307' 'IPC_Section_307']\n",
      " ['IPC_Section_376' 'IPC_Section_307_376']\n",
      " ['IPC_Section_302_376' 'IPC_Section_302_376']\n",
      " ['IPC_Section_302_376' 'IPC_Section_302_376']\n",
      " ['IPC_Section_302' 'IPC_Section_302']\n",
      " ['IPC_Section_302' 'IPC_Section_302']\n",
      " ['IPC_Section_302_376' 'IPC_Section_302_376']\n",
      " ['IPC_Section_376' 'IPC_Section_376']\n",
      " ['IPC_Section_302' 'IPC_Section_302']\n",
      " ['IPC_Section_376' 'IPC_Section_376']\n",
      " ['IPC_Section_307' 'IPC_Section_307']\n",
      " ['IPC_Section_302' 'IPC_Section_307']\n",
      " ['IPC_Section_302' 'IPC_Section_302']\n",
      " ['IPC_Section_376' 'IPC_Section_376']\n",
      " ['IPC_Section_376' 'IPC_Section_376']\n",
      " ['IPC_Section_376' 'IPC_Section_376']\n",
      " ['IPC_Section_302' 'IPC_Section_302']\n",
      " ['IPC_Section_302' 'IPC_Section_302']\n",
      " ['IPC_Section_302' 'IPC_Section_302']\n",
      " ['IPC_Section_376' 'IPC_Section_376']\n",
      " ['IPC_Section_307_376' 'IPC_Section_307_376']\n",
      " ['IPC_Section_302_376' 'IPC_Section_302_376']\n",
      " ['IPC_Section_302' 'IPC_Section_302']\n",
      " ['IPC_Section_376' 'IPC_Section_302_376']\n",
      " ['IPC_Section_376' 'IPC_Section_376']\n",
      " ['IPC_Section_302' 'IPC_Section_307']\n",
      " ['IPC_Section_376' 'IPC_Section_376']\n",
      " ['IPC_Section_307' 'IPC_Section_307']\n",
      " ['IPC_Section_302' 'IPC_Section_302']\n",
      " ['IPC_Section_302' 'IPC_Section_302']\n",
      " ['IPC_Section_302' 'IPC_Section_302']\n",
      " ['IPC_Section_302_376' 'IPC_Section_302_376']\n",
      " ['IPC_Section_307' 'IPC_Section_307']\n",
      " ['IPC_Section_302' 'IPC_Section_302']\n",
      " ['IPC_Section_376' 'IPC_Section_376']\n",
      " ['IPC_Section_376' 'IPC_Section_376']\n",
      " ['IPC_Section_376' 'IPC_Section_376']\n",
      " ['IPC_Section_376' 'IPC_Section_376']\n",
      " ['IPC_Section_307' 'IPC_Section_307']]\n"
     ]
    }
   ],
   "source": [
    "from sklearn.svm import SVC\n",
    "classifier = SVC(kernel = 'linear', random_state = 0,degree=5,tol=0.001,gamma='scale')\n",
    "classifier.fit(X_train, y_train)\n",
    "y_pred1 = classifier.predict(X_test)\n",
    "print(np.concatenate((y_pred.reshape(len(y_pred),1), y_test.reshape(len(y_test),1)),1))"
   ]
  },
  {
   "cell_type": "code",
   "execution_count": 79,
   "id": "6540b672",
   "metadata": {},
   "outputs": [
    {
     "name": "stdout",
     "output_type": "stream",
     "text": [
      "[[25  0  0  0  1]\n",
      " [ 0 10  0  0  3]\n",
      " [ 3  0  9  0  0]\n",
      " [ 0  1  0  5  5]\n",
      " [ 0  0  0  0 25]]\n"
     ]
    },
    {
     "data": {
      "text/plain": [
       "0.9310344827586207"
      ]
     },
     "execution_count": 79,
     "metadata": {},
     "output_type": "execute_result"
    }
   ],
   "source": [
    "from sklearn.metrics import confusion_matrix, accuracy_score\n",
    "cm = confusion_matrix(y_test, y_pred)\n",
    "print(cm)\n",
    "accuracy_score(y_test, y_pred1)"
   ]
  },
  {
   "cell_type": "code",
   "execution_count": 83,
   "id": "9c4e6557",
   "metadata": {},
   "outputs": [
    {
     "data": {
      "text/plain": [
       "0.9203596403596404"
      ]
     },
     "execution_count": 83,
     "metadata": {},
     "output_type": "execute_result"
    }
   ],
   "source": [
    "from sklearn.metrics import f1_score\n",
    "f1_score(y_test, y_pred1, average='macro')"
   ]
  },
  {
   "cell_type": "code",
   "execution_count": 85,
   "id": "3f541cd5",
   "metadata": {},
   "outputs": [],
   "source": [
    "with open(\"svm_model.pkl\", \"wb\") as file:\n",
    "    pickle.dump(classifier, file)\n",
    "\n"
   ]
  },
  {
   "cell_type": "code",
   "execution_count": null,
   "id": "84146c4a",
   "metadata": {},
   "outputs": [],
   "source": []
  }
 ],
 "metadata": {
  "kernelspec": {
   "display_name": "Python 3",
   "language": "python",
   "name": "python3"
  },
  "language_info": {
   "codemirror_mode": {
    "name": "ipython",
    "version": 3
   },
   "file_extension": ".py",
   "mimetype": "text/x-python",
   "name": "python",
   "nbconvert_exporter": "python",
   "pygments_lexer": "ipython3",
   "version": "3.12.5"
  }
 },
 "nbformat": 4,
 "nbformat_minor": 5
}
